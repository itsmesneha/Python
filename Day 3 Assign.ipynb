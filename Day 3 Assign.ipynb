{
 "cells": [
  {
   "cell_type": "markdown",
   "id": "3186a265",
   "metadata": {},
   "source": [
    "### 1.) Write a program to find those numbers which are divisible by 15 and multiple of 5, between 10 and 150 "
   ]
  },
  {
   "cell_type": "code",
   "execution_count": 9,
   "id": "99c1e2cf",
   "metadata": {},
   "outputs": [
    {
     "name": "stdout",
     "output_type": "stream",
     "text": [
      "15\n",
      "30\n",
      "45\n",
      "60\n",
      "75\n",
      "90\n",
      "105\n",
      "120\n",
      "135\n"
     ]
    }
   ],
   "source": [
    "i=10\n",
    "while i<150:\n",
    " if(i%15==0 and i%5==0):\n",
    "    print(i)\n",
    " i=i+1"
   ]
  },
  {
   "cell_type": "markdown",
   "id": "8d86b706",
   "metadata": {},
   "source": [
    "###  2.) Write a python program to print 100 prime numbers and you should print \"Hey Bro done!\" "
   ]
  },
  {
   "cell_type": "code",
   "execution_count": 11,
   "id": "d700b152",
   "metadata": {},
   "outputs": [
    {
     "name": "stdout",
     "output_type": "stream",
     "text": [
      "2 3 5 7 11 13 17 19 23 29 31 37 41 43 47 53 59 61 67 71 73 79 83 89 97 \n",
      "Hey Bro done!\n"
     ]
    }
   ],
   "source": [
    "i = 2\n",
    "while i <= 100: \n",
    "    j = 2\n",
    "    while j < 100: \n",
    "        if i%j == 0: \n",
    "            break \n",
    "        j += 1 \n",
    "    if i == j: \n",
    "        print(i,end=' ') \n",
    "    i += 1\n",
    "print('\\nHey Bro done!')"
   ]
  },
  {
   "cell_type": "code",
   "execution_count": null,
   "id": "b7cab96d",
   "metadata": {},
   "outputs": [],
   "source": []
  }
 ],
 "metadata": {
  "kernelspec": {
   "display_name": "Python 3 (ipykernel)",
   "language": "python",
   "name": "python3"
  },
  "language_info": {
   "codemirror_mode": {
    "name": "ipython",
    "version": 3
   },
   "file_extension": ".py",
   "mimetype": "text/x-python",
   "name": "python",
   "nbconvert_exporter": "python",
   "pygments_lexer": "ipython3",
   "version": "3.10.6"
  }
 },
 "nbformat": 4,
 "nbformat_minor": 5
}
